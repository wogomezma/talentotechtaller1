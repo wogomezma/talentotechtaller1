{
  "cells": [
    {
      "cell_type": "code",
      "execution_count": 12,
      "metadata": {
        "colab": {
          "base_uri": "https://localhost:8080/"
        },
        "id": "4hvRuzZzvVzn",
        "outputId": "743b67c3-f63a-47ae-8a96-ae7860254413",
        "vscode": {
          "languageId": "powershell"
        }
      },
      "outputs": [
        {
          "name": "stdout",
          "output_type": "stream",
          "text": [
            " * Serving Flask app '__main__'\n",
            " * Debug mode: off\n"
          ]
        },
        {
          "name": "stderr",
          "output_type": "stream",
          "text": [
            "WARNING: This is a development server. Do not use it in a production deployment. Use a production WSGI server instead.\n",
            " * Running on http://127.0.0.1:5000\n",
            "Press CTRL+C to quit\n",
            "127.0.0.1 - - [29/Feb/2024 08:10:00] \"GET /password_lengths HTTP/1.1\" 200 -\n",
            "127.0.0.1 - - [29/Feb/2024 08:10:00] \"GET /email_domains HTTP/1.1\" 200 -\n",
            "127.0.0.1 - - [29/Feb/2024 08:10:00] \"GET /password_lengths HTTP/1.1\" 200 -\n",
            "127.0.0.1 - - [29/Feb/2024 08:10:00] \"GET /email_domains HTTP/1.1\" 200 -\n",
            "127.0.0.1 - - [29/Feb/2024 08:13:19] \"GET /password_lengths HTTP/1.1\" 200 -\n",
            "127.0.0.1 - - [29/Feb/2024 08:13:19] \"GET /email_domains HTTP/1.1\" 200 -\n",
            "127.0.0.1 - - [29/Feb/2024 08:16:31] \"GET /password_lengths HTTP/1.1\" 200 -\n",
            "127.0.0.1 - - [29/Feb/2024 08:16:31] \"GET /email_domains HTTP/1.1\" 200 -\n",
            "127.0.0.1 - - [29/Feb/2024 08:16:48] \"GET /password_lengths HTTP/1.1\" 200 -\n",
            "127.0.0.1 - - [29/Feb/2024 08:16:48] \"GET /email_domains HTTP/1.1\" 200 -\n",
            "127.0.0.1 - - [29/Feb/2024 08:18:02] \"GET /password_lengths HTTP/1.1\" 200 -\n",
            "127.0.0.1 - - [29/Feb/2024 08:18:02] \"GET /email_domains HTTP/1.1\" 200 -\n",
            "127.0.0.1 - - [29/Feb/2024 08:19:07] \"GET /password_lengths HTTP/1.1\" 200 -\n",
            "127.0.0.1 - - [29/Feb/2024 08:19:07] \"GET /email_domains HTTP/1.1\" 200 -\n",
            "127.0.0.1 - - [29/Feb/2024 08:19:43] \"GET /password_lengths HTTP/1.1\" 200 -\n",
            "127.0.0.1 - - [29/Feb/2024 08:19:43] \"GET /email_domains HTTP/1.1\" 200 -\n",
            "127.0.0.1 - - [29/Feb/2024 08:20:09] \"GET /password_lengths HTTP/1.1\" 200 -\n",
            "127.0.0.1 - - [29/Feb/2024 08:20:09] \"GET /email_domains HTTP/1.1\" 200 -\n",
            "127.0.0.1 - - [29/Feb/2024 08:20:56] \"GET /password_lengths HTTP/1.1\" 200 -\n",
            "127.0.0.1 - - [29/Feb/2024 08:20:56] \"GET /email_domains HTTP/1.1\" 200 -\n",
            "127.0.0.1 - - [29/Feb/2024 08:21:00] \"GET /password_lengths HTTP/1.1\" 200 -\n",
            "127.0.0.1 - - [29/Feb/2024 08:21:00] \"GET /email_domains HTTP/1.1\" 200 -\n",
            "127.0.0.1 - - [29/Feb/2024 08:22:02] \"GET /password_lengths HTTP/1.1\" 200 -\n",
            "127.0.0.1 - - [29/Feb/2024 08:22:02] \"GET /email_domains HTTP/1.1\" 200 -\n",
            "127.0.0.1 - - [29/Feb/2024 08:22:50] \"GET /password_lengths HTTP/1.1\" 200 -\n",
            "127.0.0.1 - - [29/Feb/2024 08:22:51] \"GET /email_domains HTTP/1.1\" 200 -\n",
            "127.0.0.1 - - [29/Feb/2024 08:22:58] \"GET /password_lengths HTTP/1.1\" 200 -\n",
            "127.0.0.1 - - [29/Feb/2024 08:22:58] \"GET /email_domains HTTP/1.1\" 200 -\n",
            "127.0.0.1 - - [29/Feb/2024 08:24:23] \"GET /password_lengths HTTP/1.1\" 200 -\n",
            "127.0.0.1 - - [29/Feb/2024 08:24:23] \"GET /email_domains HTTP/1.1\" 200 -\n",
            "127.0.0.1 - - [29/Feb/2024 08:24:34] \"GET /password_lengths HTTP/1.1\" 200 -\n",
            "127.0.0.1 - - [29/Feb/2024 08:24:34] \"GET /email_domains HTTP/1.1\" 200 -\n",
            "127.0.0.1 - - [29/Feb/2024 08:25:09] \"GET /password_lengths HTTP/1.1\" 200 -\n",
            "127.0.0.1 - - [29/Feb/2024 08:25:10] \"GET /email_domains HTTP/1.1\" 200 -\n",
            "127.0.0.1 - - [29/Feb/2024 08:26:05] \"GET /password_lengths HTTP/1.1\" 200 -\n",
            "127.0.0.1 - - [29/Feb/2024 08:26:05] \"GET /email_domains HTTP/1.1\" 200 -\n",
            "127.0.0.1 - - [29/Feb/2024 08:32:47] \"GET /password_lengths HTTP/1.1\" 200 -\n",
            "127.0.0.1 - - [29/Feb/2024 08:32:47] \"GET /email_domains HTTP/1.1\" 200 -\n",
            "127.0.0.1 - - [29/Feb/2024 08:36:24] \"GET /password_lengths HTTP/1.1\" 200 -\n",
            "127.0.0.1 - - [29/Feb/2024 08:36:25] \"GET /email_domains HTTP/1.1\" 200 -\n",
            "127.0.0.1 - - [29/Feb/2024 08:36:29] \"GET /password_lengths HTTP/1.1\" 200 -\n",
            "127.0.0.1 - - [29/Feb/2024 08:36:29] \"GET /email_domains HTTP/1.1\" 200 -\n",
            "127.0.0.1 - - [29/Feb/2024 08:37:37] \"GET /password_lengths HTTP/1.1\" 200 -\n",
            "127.0.0.1 - - [29/Feb/2024 08:37:37] \"GET /email_domains HTTP/1.1\" 200 -\n",
            "127.0.0.1 - - [29/Feb/2024 08:38:01] \"GET /password_lengths HTTP/1.1\" 200 -\n",
            "127.0.0.1 - - [29/Feb/2024 08:38:02] \"GET /email_domains HTTP/1.1\" 200 -\n",
            "127.0.0.1 - - [29/Feb/2024 08:38:25] \"GET /password_lengths HTTP/1.1\" 200 -\n",
            "127.0.0.1 - - [29/Feb/2024 08:38:25] \"GET /email_domains HTTP/1.1\" 200 -\n",
            "127.0.0.1 - - [29/Feb/2024 08:38:41] \"GET /password_lengths HTTP/1.1\" 200 -\n",
            "127.0.0.1 - - [29/Feb/2024 08:38:41] \"GET /email_domains HTTP/1.1\" 200 -\n",
            "127.0.0.1 - - [29/Feb/2024 08:40:57] \"GET /password_lengths HTTP/1.1\" 200 -\n",
            "127.0.0.1 - - [29/Feb/2024 08:40:57] \"GET /email_domains HTTP/1.1\" 200 -\n",
            "127.0.0.1 - - [29/Feb/2024 08:41:12] \"GET /password_lengths HTTP/1.1\" 200 -\n",
            "127.0.0.1 - - [29/Feb/2024 08:41:12] \"GET /email_domains HTTP/1.1\" 200 -\n",
            "127.0.0.1 - - [29/Feb/2024 08:42:46] \"GET /password_lengths HTTP/1.1\" 200 -\n",
            "127.0.0.1 - - [29/Feb/2024 08:42:46] \"GET /email_domains HTTP/1.1\" 200 -\n",
            "127.0.0.1 - - [29/Feb/2024 08:42:55] \"GET /password_lengths HTTP/1.1\" 200 -\n",
            "127.0.0.1 - - [29/Feb/2024 08:42:55] \"GET /email_domains HTTP/1.1\" 200 -\n"
          ]
        }
      ],
      "source": [
        "\n",
        "import pandas as pd\n",
        "import json\n",
        "import random\n",
        "import string\n",
        "from flask import Flask, jsonify\n",
        "from flask_cors import CORS\n",
        "\n",
        "app = Flask(__name__)\n",
        "CORS(app) \n",
        "# Función para generar datos aleatorios\n",
        "def generate_random_data():\n",
        "    name = ''.join(random.choice(string.ascii_letters) for _ in range(10))\n",
        "    \n",
        "    # Ajusta las probabilidades para seleccionar un dominio y sea mas interesante la grafica\n",
        "    domain_choices = ['hotmail.com', 'gmail.com', 'yahoo.com', 'aol.com']\n",
        "    domain_weights = [0.3, 0.2, 0.2, 0.3]\n",
        "    domain = random.choices(domain_choices, weights=domain_weights)[0]\n",
        "    \n",
        "    email = f\"{name}@{domain}\"\n",
        "    \n",
        "    # Ajusta las probabilidades para seleccionar la longitud de la contraseña y sea mas interesante la grafica\n",
        "    password_length_choices = list(range(5, 13))\n",
        "    password_length_weights = [0.1, 0.1, 0.1, 0.15, 0.15, 0.15, 0.15, 0.1]\n",
        "    password_length = random.choices(password_length_choices, weights=password_length_weights)[0]\n",
        "    \n",
        "    password = ''.join(random.choice(string.ascii_letters + string.digits) for _ in range(password_length))\n",
        "    \n",
        "    return {\"name\": name, \"email\": email, \"password\": password}\n",
        "\n",
        "\n",
        "# Generar 500,000 registros en tiempo de ejecución\n",
        "data = [generate_random_data() for _ in range(500000)]\n",
        "\n",
        "# Crear un DataFrame de pandas\n",
        "df = pd.DataFrame(data)\n",
        "\n",
        "# Ruta para obtener la tabla de longitud de contraseñas\n",
        "@app.route('/password_lengths', methods=['GET'])\n",
        "def get_password_lengths():\n",
        "    password_length_counts = df['password'].apply(len).value_counts().sort_index()\n",
        "    result = {\"password_lengths\": password_length_counts.to_dict()}\n",
        "    return jsonify(result)\n",
        "\n",
        "# Ruta para obtener la tabla de tipos de dominios de correos\n",
        "@app.route('/email_domains', methods=['GET'])\n",
        "def get_email_domains():\n",
        "    domain_counts = df['email'].apply(lambda x: x.split('@')[1]).value_counts()\n",
        "    result = {\"email_domains\": domain_counts.to_dict()}\n",
        "    return jsonify(result)\n",
        "\n",
        "if __name__ == '__main__':\n",
        "    app.run(debug=False)\n"
      ]
    },
    {
      "cell_type": "code",
      "execution_count": 9,
      "metadata": {
        "vscode": {
          "languageId": "powershell"
        }
      },
      "outputs": [
        {
          "name": "stdout",
          "output_type": "stream",
          "text": [
            "Collecting flask_corsNote: you may need to restart the kernel to use updated packages.\n",
            "\n",
            "  Downloading Flask_Cors-4.0.0-py2.py3-none-any.whl.metadata (5.4 kB)\n",
            "Requirement already satisfied: Flask>=0.9 in c:\\users\\walt3\\appdata\\local\\packages\\pythonsoftwarefoundation.python.3.11_qbz5n2kfra8p0\\localcache\\local-packages\\python311\\site-packages (from flask_cors) (3.0.2)\n",
            "Requirement already satisfied: Werkzeug>=3.0.0 in c:\\users\\walt3\\appdata\\local\\packages\\pythonsoftwarefoundation.python.3.11_qbz5n2kfra8p0\\localcache\\local-packages\\python311\\site-packages (from Flask>=0.9->flask_cors) (3.0.1)\n",
            "Requirement already satisfied: Jinja2>=3.1.2 in c:\\users\\walt3\\appdata\\local\\packages\\pythonsoftwarefoundation.python.3.11_qbz5n2kfra8p0\\localcache\\local-packages\\python311\\site-packages (from Flask>=0.9->flask_cors) (3.1.3)\n",
            "Requirement already satisfied: itsdangerous>=2.1.2 in c:\\users\\walt3\\appdata\\local\\packages\\pythonsoftwarefoundation.python.3.11_qbz5n2kfra8p0\\localcache\\local-packages\\python311\\site-packages (from Flask>=0.9->flask_cors) (2.1.2)\n",
            "Requirement already satisfied: click>=8.1.3 in c:\\users\\walt3\\appdata\\local\\packages\\pythonsoftwarefoundation.python.3.11_qbz5n2kfra8p0\\localcache\\local-packages\\python311\\site-packages (from Flask>=0.9->flask_cors) (8.1.7)\n",
            "Requirement already satisfied: blinker>=1.6.2 in c:\\users\\walt3\\appdata\\local\\packages\\pythonsoftwarefoundation.python.3.11_qbz5n2kfra8p0\\localcache\\local-packages\\python311\\site-packages (from Flask>=0.9->flask_cors) (1.7.0)\n",
            "Requirement already satisfied: colorama in c:\\users\\walt3\\appdata\\local\\packages\\pythonsoftwarefoundation.python.3.11_qbz5n2kfra8p0\\localcache\\local-packages\\python311\\site-packages (from click>=8.1.3->Flask>=0.9->flask_cors) (0.4.6)\n",
            "Requirement already satisfied: MarkupSafe>=2.0 in c:\\users\\walt3\\appdata\\local\\packages\\pythonsoftwarefoundation.python.3.11_qbz5n2kfra8p0\\localcache\\local-packages\\python311\\site-packages (from Jinja2>=3.1.2->Flask>=0.9->flask_cors) (2.1.5)\n",
            "Downloading Flask_Cors-4.0.0-py2.py3-none-any.whl (14 kB)\n",
            "Installing collected packages: flask_cors\n",
            "Successfully installed flask_cors-4.0.0\n"
          ]
        }
      ],
      "source": [
        "%pip install flask_cors"
      ]
    }
  ],
  "metadata": {
    "colab": {
      "provenance": []
    },
    "kernelspec": {
      "display_name": "Python 3",
      "language": "python",
      "name": "python3"
    },
    "language_info": {
      "codemirror_mode": {
        "name": "ipython",
        "version": 3
      },
      "file_extension": ".py",
      "mimetype": "text/x-python",
      "name": "python",
      "nbconvert_exporter": "python",
      "pygments_lexer": "ipython3",
      "version": "3.11.8"
    }
  },
  "nbformat": 4,
  "nbformat_minor": 0
}
