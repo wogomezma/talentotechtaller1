{
  "nbformat": 4,
  "nbformat_minor": 0,
  "metadata": {
    "colab": {
      "provenance": []
    },
    "kernelspec": {
      "name": "python3",
      "display_name": "Python 3"
    },
    "language_info": {
      "name": "python"
    }
  },
  "cells": [
    {
      "cell_type": "code",
      "execution_count": 1,
      "metadata": {
        "colab": {
          "base_uri": "https://localhost:8080/"
        },
        "id": "4hvRuzZzvVzn",
        "outputId": "743b67c3-f63a-47ae-8a96-ae7860254413"
      },
      "outputs": [
        {
          "output_type": "stream",
          "name": "stdout",
          "text": [
            " * Serving Flask app '__main__'\n",
            " * Debug mode: on\n"
          ]
        },
        {
          "output_type": "stream",
          "name": "stderr",
          "text": [
            "INFO:werkzeug:\u001b[31m\u001b[1mWARNING: This is a development server. Do not use it in a production deployment. Use a production WSGI server instead.\u001b[0m\n",
            " * Running on http://127.0.0.1:5000\n",
            "INFO:werkzeug:\u001b[33mPress CTRL+C to quit\u001b[0m\n",
            "INFO:werkzeug: * Restarting with stat\n"
          ]
        }
      ],
      "source": [
        "from flask import Flask, jsonify\n",
        "import pandas as pd\n",
        "import json\n",
        "import random\n",
        "import string\n",
        "\n",
        "app = Flask(__name__)\n",
        "\n",
        "# Función para generar datos aleatorios con contraseñas de 5 a 12 caracteres\n",
        "def generate_random_data():\n",
        "    name = ''.join(random.choice(string.ascii_letters) for _ in range(10))\n",
        "    domain = random.choice(['hotmail.com', 'gmail.com', 'yahoo.com', 'aol.com'])\n",
        "    email = f\"{name}@{domain}\"\n",
        "    password_length = random.randint(5, 12)\n",
        "    password = ''.join(random.choice(string.ascii_letters + string.digits) for _ in range(password_length))\n",
        "    return {\"name\": name, \"email\": email, \"password\": password}\n",
        "\n",
        "# Generar 500,000 registros en tiempo de ejecución\n",
        "data = [generate_random_data() for _ in range(500000)]\n",
        "\n",
        "# Crear un DataFrame de pandas\n",
        "df = pd.DataFrame(data)\n",
        "\n",
        "# Ruta para obtener la tabla de longitud de contraseñas\n",
        "@app.route('/password_lengths', methods=['GET'])\n",
        "def get_password_lengths():\n",
        "    password_length_counts = df['password'].apply(len).value_counts().sort_index()\n",
        "    result = {\"password_lengths\": password_length_counts.to_dict()}\n",
        "    return jsonify(result)\n",
        "\n",
        "# Ruta para obtener la tabla de tipos de dominios de correos\n",
        "@app.route('/email_domains', methods=['GET'])\n",
        "def get_email_domains():\n",
        "    domain_counts = df['email'].apply(lambda x: x.split('@')[1]).value_counts()\n",
        "    result = {\"email_domains\": domain_counts.to_dict()}\n",
        "    return jsonify(result)\n",
        "\n",
        "if __name__ == '__main__':\n",
        "    app.run(debug=True)\n"
      ]
    }
  ]
}